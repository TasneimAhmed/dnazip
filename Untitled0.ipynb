{
  "nbformat": 4,
  "nbformat_minor": 0,
  "metadata": {
    "colab": {
      "provenance": [],
      "authorship_tag": "ABX9TyPIBBChewp8F2JEo3QteNYE",
      "include_colab_link": true
    },
    "kernelspec": {
      "name": "python3",
      "display_name": "Python 3"
    },
    "language_info": {
      "name": "python"
    }
  },
  "cells": [
    {
      "cell_type": "markdown",
      "metadata": {
        "id": "view-in-github",
        "colab_type": "text"
      },
      "source": [
        "<a href=\"https://colab.research.google.com/github/TasneimAhmed/dnazip/blob/main/Untitled0.ipynb\" target=\"_parent\"><img src=\"https://colab.research.google.com/assets/colab-badge.svg\" alt=\"Open In Colab\"/></a>"
      ]
    },
    {
      "cell_type": "code",
      "source": [
        "#Compute equation\n",
        "n=int(input(\"Enter a number n:\"))\n",
        "x=int(n*n)\n",
        "y=int(n*n*n)\n",
        "q=(n+x+y)\n",
        "print(q)\n"
      ],
      "metadata": {
        "id": "SxoxLVdQX0K0",
        "colab": {
          "base_uri": "https://localhost:8080/"
        },
        "outputId": "abff0438-0291-44d5-9f03-f99b96999a60"
      },
      "execution_count": 1,
      "outputs": [
        {
          "output_type": "stream",
          "name": "stdout",
          "text": [
            "Enter a number n:2\n",
            "14\n"
          ]
        }
      ]
    },
    {
      "cell_type": "code",
      "source": [
        "#Reversed name\n",
        "x=input(\" Enter first name : \")\n",
        "y=input(\" Enter last name : \")\n",
        "print( y , x , sep=\"   \")"
      ],
      "metadata": {
        "colab": {
          "base_uri": "https://localhost:8080/"
        },
        "id": "NY89uZDGhB-K",
        "outputId": "39ddb21d-7d10-4a3f-ea36-d602b15b5bdc"
      },
      "execution_count": 32,
      "outputs": [
        {
          "output_type": "stream",
          "name": "stdout",
          "text": [
            " Enter first name : Tasneem\n",
            " Enter last name : Ahmed\n",
            "Ahmed   Tasneem\n"
          ]
        }
      ]
    },
    {
      "cell_type": "code",
      "source": [
        "#same thing but with 2 print statements\n",
        "x=input(\" Enter first name : \")\n",
        "y=input(\" Enter last name : \")\n",
        "print( y  , sep= ' ' , end='\\n' )\n",
        "print( x )"
      ],
      "metadata": {
        "colab": {
          "base_uri": "https://localhost:8080/"
        },
        "id": "S0Fu7fZTzEW4",
        "outputId": "4c6b4037-99e0-411f-bcd3-a087ee8ba5f6"
      },
      "execution_count": 33,
      "outputs": [
        {
          "output_type": "stream",
          "name": "stdout",
          "text": [
            " Enter first name : Tasneem\n",
            " Enter last name : Ahmed\n",
            "Ahmed\n",
            "Tasneem\n"
          ]
        }
      ]
    },
    {
      "cell_type": "code",
      "source": [
        "#Remainder\n",
        "x,y=(input(\"Enter the two numbers\")).split(\",\")\n",
        "print(int(x) % int(y))\n"
      ],
      "metadata": {
        "colab": {
          "base_uri": "https://localhost:8080/"
        },
        "id": "mlcf-LkT0NrN",
        "outputId": "8522eb41-35d7-413f-955f-5b579111dbc7"
      },
      "execution_count": 35,
      "outputs": [
        {
          "output_type": "stream",
          "name": "stdout",
          "text": [
            "Enter the two numbers10 , 3\n",
            "1\n"
          ]
        }
      ]
    },
    {
      "cell_type": "code",
      "source": [
        "#same thing without using (%)\n",
        "x,y=(input(\"Enter the two numbers\")).split(\",\")\n",
        "print((int(x)-1) / int(y))\n",
        "print(int(x) - (int(x)-1))"
      ],
      "metadata": {
        "colab": {
          "base_uri": "https://localhost:8080/"
        },
        "id": "Eb4MUjGT5dKk",
        "outputId": "9e836391-62ac-4cad-e2da-b167277bc9ff"
      },
      "execution_count": 23,
      "outputs": [
        {
          "output_type": "stream",
          "name": "stdout",
          "text": [
            "Enter the two numbers10 , 3\n",
            "3.0\n",
            "1\n"
          ]
        }
      ]
    },
    {
      "cell_type": "code",
      "source": [
        "#Switch variables\n",
        "x,y=input(\" enter 2 number : \").split(',')\n",
        "z=int(x) , int(y)\n",
        "print(z)\n",
        "x,y=y,x\n",
        "\n",
        "print(x)\n",
        "print(y)"
      ],
      "metadata": {
        "colab": {
          "base_uri": "https://localhost:8080/"
        },
        "id": "qTSaU6oe7bdt",
        "outputId": "28c8606a-84e6-43ee-d772-dc58443b022c"
      },
      "execution_count": 22,
      "outputs": [
        {
          "output_type": "stream",
          "name": "stdout",
          "text": [
            " enter 2 number : 5 , 6\n",
            "(5, 6)\n",
            " 6\n",
            "5 \n"
          ]
        }
      ]
    },
    {
      "cell_type": "code",
      "source": [
        "#Convert to seconds\n",
        "H,M,S=input(\" Enter a time (hours,minutes,seconds) ; \").split(',')\n",
        "x=int(H)*60*60\n",
        "y=int(M)*60\n",
        "z=int(S)\n",
        "print(\"H:{}\".format(x),\"M:{}\".format(y) ,\"s:{}\".format(z))"
      ],
      "metadata": {
        "colab": {
          "base_uri": "https://localhost:8080/"
        },
        "id": "LvhAiXlFRKRY",
        "outputId": "1ad7cceb-e32b-434b-ab8f-0efabc1b2ca9"
      },
      "execution_count": 24,
      "outputs": [
        {
          "output_type": "stream",
          "name": "stdout",
          "text": [
            " Enter a time (hours,minutes,seconds) ; 1,3,3\n",
            "H:3600 M:180 s:3\n"
          ]
        }
      ]
    }
  ]
}